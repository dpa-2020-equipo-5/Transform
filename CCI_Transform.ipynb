{
 "cells": [
  {
   "cell_type": "code",
   "execution_count": 1,
   "metadata": {},
   "outputs": [],
   "source": [
    "import sklearn as sk\n",
    "from sklearn import preprocessing\n",
    "import pandas as pd\n",
    "import matplotlib\n",
    "import matplotlib.pyplot as plt\n",
    "import seaborn as sns #Control figure \n",
    "import numpy as np\n",
    "matplotlib.style.use('ggplot')\n",
    "%matplotlib inline"
   ]
  },
  {
   "cell_type": "code",
   "execution_count": 2,
   "metadata": {},
   "outputs": [
    {
     "name": "stdout",
     "output_type": "stream",
     "text": [
      "C:\\Users\\Elizabeth\\pre_processed_3\\Pre_processed-and-Transform\n"
     ]
    }
   ],
   "source": [
    "import os\n",
    "cwd = os.getcwd() #to get current working directory\n",
    "print(cwd)"
   ]
  },
  {
   "cell_type": "code",
   "execution_count": 3,
   "metadata": {},
   "outputs": [],
   "source": [
    "df = pd.read_csv('df.csv', encoding = \"utf-8\")"
   ]
  },
  {
   "cell_type": "code",
   "execution_count": 4,
   "metadata": {},
   "outputs": [
    {
     "name": "stdout",
     "output_type": "stream",
     "text": [
      "<class 'pandas.core.frame.DataFrame'>\n",
      "RangeIndex: 39781 entries, 0 to 39780\n",
      "Data columns (total 39 columns):\n",
      "center_id                                      39781 non-null object\n",
      "center_name                                    39781 non-null object\n",
      "legal_name                                     39781 non-null object\n",
      "building                                       39773 non-null object\n",
      "street                                         39781 non-null object\n",
      "borough                                        39781 non-null object\n",
      "zipcode                                        39736 non-null float64\n",
      "phone                                          39713 non-null object\n",
      "permit_number                                  35796 non-null float64\n",
      "permit_expiration                              39781 non-null object\n",
      "status                                         39781 non-null object\n",
      "age_range                                      37966 non-null object\n",
      "maximum_capacity                               39781 non-null int64\n",
      "program_type                                   39781 non-null object\n",
      "facility_type                                  39781 non-null object\n",
      "child_care_type                                39781 non-null object\n",
      "building_identification_number                 39781 non-null int64\n",
      "url                                            20076 non-null object\n",
      "date_permitted                                 35541 non-null object\n",
      "actual                                         35541 non-null object\n",
      "violation_rate_percent                         39710 non-null float64\n",
      "average_violation_rate_percent                 39697 non-null float64\n",
      "total_educational_workers                      39781 non-null int64\n",
      "average_total_educational_workers              39781 non-null float64\n",
      "public_health_hazard_violation_rate            39710 non-null float64\n",
      "average_public_health_hazard_violation_rate    39697 non-null float64\n",
      "critical_violation_rate                        39710 non-null float64\n",
      "average_critical_violation_rate                39697 non-null float64\n",
      "inspection_date                                39735 non-null object\n",
      "regulation_summary                             39735 non-null object\n",
      "violation_category                             24325 non-null object\n",
      "health_code_sub_section                        24325 non-null object\n",
      "violation_status                               24325 non-null object\n",
      "inspection_summary_result                      37656 non-null object\n",
      "inspection_reason                              37656 non-null object\n",
      "result                                         37656 non-null object\n",
      "inspection_month                               39735 non-null float64\n",
      "inspection_day                                 39735 non-null float64\n",
      "inspection_year                                39735 non-null float64\n",
      "dtypes: float64(12), int64(3), object(24)\n",
      "memory usage: 11.8+ MB\n"
     ]
    }
   ],
   "source": [
    "df.info()"
   ]
  },
  {
   "cell_type": "code",
   "execution_count": 5,
   "metadata": {},
   "outputs": [
    {
     "name": "stdout",
     "output_type": "stream",
     "text": [
      "\t-> Crear variables dummies a partir de las variables inspection_reason y result\n"
     ]
    }
   ],
   "source": [
    "print(\"\\t-> Crear variables dummies a partir de las variables inspection_reason y result\")"
   ]
  },
  {
   "cell_type": "code",
   "execution_count": 6,
   "metadata": {},
   "outputs": [
    {
     "data": {
      "text/plain": [
       "initial_annual_inspection                       25233\n",
       "compliance_inspection_of_open_violations         7022\n",
       "monitoring_inspection_non-routine                5323\n",
       "NaN                                              2125\n",
       "lead_based_paint_or_lead_in_water_inspection       78\n",
       "Name: inspection_reason, dtype: int64"
      ]
     },
     "execution_count": 6,
     "metadata": {},
     "output_type": "execute_result"
    }
   ],
   "source": [
    "df.inspection_reason.value_counts(dropna=False)"
   ]
  },
  {
   "cell_type": "code",
   "execution_count": 7,
   "metadata": {},
   "outputs": [],
   "source": [
    "df['inspection_reason'] = df.inspection_reason.astype('str')"
   ]
  },
  {
   "cell_type": "code",
   "execution_count": 8,
   "metadata": {},
   "outputs": [],
   "source": [
    "df['initial_annual_inspection'] = ['initial_annual_inspection' in i for i in df['inspection_reason']]\n",
    "df['compliance_inspection_of_open_violations'] = ['compliance_inspection_of_open_violations' in i for i in df['inspection_reason']]\n",
    "df['monitoring_inspection_non_routine'] = ['monitoring_inspection_non-routine' in i for i in df['inspection_reason']]\n",
    "df['lead_based_paint_or_lead_in_water_inspection'] = ['lead_based_paint_or_lead_in_water_inspection' in i for i in df['inspection_reason']]"
   ]
  },
  {
   "cell_type": "code",
   "execution_count": 9,
   "metadata": {},
   "outputs": [
    {
     "data": {
      "text/plain": [
       "(39781, 43)"
      ]
     },
     "execution_count": 9,
     "metadata": {},
     "output_type": "execute_result"
    }
   ],
   "source": [
    "df.shape"
   ]
  },
  {
   "cell_type": "code",
   "execution_count": 10,
   "metadata": {},
   "outputs": [],
   "source": [
    "df['initial_annual_inspection'] = df.initial_annual_inspection.apply(lambda x: 1 if x == True else 0)\n",
    "df['compliance_inspection_of_open_violations'] = df.compliance_inspection_of_open_violations.apply(lambda x: 1 if x == True else 0)\n",
    "df['monitoring_inspection_non_routine'] = df.monitoring_inspection_non_routine.apply(lambda x: 1 if x == True else 0)\n",
    "df['lead_based_paint_or_lead_in_water_inspection'] = df.lead_based_paint_or_lead_in_water_inspection.apply(lambda x: 1 if x == True else 0)"
   ]
  },
  {
   "cell_type": "code",
   "execution_count": 11,
   "metadata": {},
   "outputs": [
    {
     "data": {
      "text/plain": [
       "(39781, 43)"
      ]
     },
     "execution_count": 11,
     "metadata": {},
     "output_type": "execute_result"
    }
   ],
   "source": [
    "df.shape"
   ]
  },
  {
   "cell_type": "code",
   "execution_count": 12,
   "metadata": {},
   "outputs": [
    {
     "data": {
      "text/plain": [
       "reinspection_required;_fines_pending                                 13917\n",
       "passed_inspection_with_no_violations                                  9236\n",
       "reinspection_required                                                 5543\n",
       "reinspection_not_required                                             4657\n",
       "NaN                                                                   2125\n",
       "previously_cited_violations_corrected                                 1876\n",
       "reinspection_required;_violations_corrected_at_time_of_inspection     1519\n",
       "passed_inspection;_violations_corrected_at_time_of_inspection          573\n",
       "reinspection_required;_program_closed                                  248\n",
       "previously_closed_program_re-opened                                     87\n",
       "Name: result, dtype: int64"
      ]
     },
     "execution_count": 12,
     "metadata": {},
     "output_type": "execute_result"
    }
   ],
   "source": [
    "df.result.value_counts(dropna=False)"
   ]
  },
  {
   "cell_type": "code",
   "execution_count": 13,
   "metadata": {},
   "outputs": [
    {
     "name": "stdout",
     "output_type": "stream",
     "text": [
      "\t-> La variable result al parecer cuenta con dos variables, es decir, con dos resultados\n"
     ]
    }
   ],
   "source": [
    "print(\"\\t-> La variable result al parecer cuenta con dos variables, es decir, con dos resultados\")"
   ]
  },
  {
   "cell_type": "code",
   "execution_count": 14,
   "metadata": {},
   "outputs": [],
   "source": [
    "df_2 = df.result.str.partition(';_')"
   ]
  },
  {
   "cell_type": "code",
   "execution_count": 15,
   "metadata": {},
   "outputs": [
    {
     "data": {
      "text/html": [
       "<div>\n",
       "<style scoped>\n",
       "    .dataframe tbody tr th:only-of-type {\n",
       "        vertical-align: middle;\n",
       "    }\n",
       "\n",
       "    .dataframe tbody tr th {\n",
       "        vertical-align: top;\n",
       "    }\n",
       "\n",
       "    .dataframe thead th {\n",
       "        text-align: right;\n",
       "    }\n",
       "</style>\n",
       "<table border=\"1\" class=\"dataframe\">\n",
       "  <thead>\n",
       "    <tr style=\"text-align: right;\">\n",
       "      <th></th>\n",
       "      <th>0</th>\n",
       "      <th>1</th>\n",
       "      <th>2</th>\n",
       "    </tr>\n",
       "  </thead>\n",
       "  <tbody>\n",
       "    <tr>\n",
       "      <td>0</td>\n",
       "      <td>reinspection_required</td>\n",
       "      <td></td>\n",
       "      <td></td>\n",
       "    </tr>\n",
       "    <tr>\n",
       "      <td>1</td>\n",
       "      <td>previously_cited_violations_corrected</td>\n",
       "      <td></td>\n",
       "      <td></td>\n",
       "    </tr>\n",
       "    <tr>\n",
       "      <td>2</td>\n",
       "      <td>reinspection_required</td>\n",
       "      <td></td>\n",
       "      <td></td>\n",
       "    </tr>\n",
       "    <tr>\n",
       "      <td>3</td>\n",
       "      <td>previously_cited_violations_corrected</td>\n",
       "      <td></td>\n",
       "      <td></td>\n",
       "    </tr>\n",
       "    <tr>\n",
       "      <td>4</td>\n",
       "      <td>reinspection_required</td>\n",
       "      <td></td>\n",
       "      <td></td>\n",
       "    </tr>\n",
       "    <tr>\n",
       "      <td>...</td>\n",
       "      <td>...</td>\n",
       "      <td>...</td>\n",
       "      <td>...</td>\n",
       "    </tr>\n",
       "    <tr>\n",
       "      <td>39776</td>\n",
       "      <td>reinspection_required</td>\n",
       "      <td>;_</td>\n",
       "      <td>fines_pending</td>\n",
       "    </tr>\n",
       "    <tr>\n",
       "      <td>39777</td>\n",
       "      <td>reinspection_required</td>\n",
       "      <td>;_</td>\n",
       "      <td>fines_pending</td>\n",
       "    </tr>\n",
       "    <tr>\n",
       "      <td>39778</td>\n",
       "      <td>reinspection_required</td>\n",
       "      <td>;_</td>\n",
       "      <td>fines_pending</td>\n",
       "    </tr>\n",
       "    <tr>\n",
       "      <td>39779</td>\n",
       "      <td>passed_inspection_with_no_violations</td>\n",
       "      <td></td>\n",
       "      <td></td>\n",
       "    </tr>\n",
       "    <tr>\n",
       "      <td>39780</td>\n",
       "      <td>reinspection_required</td>\n",
       "      <td>;_</td>\n",
       "      <td>fines_pending</td>\n",
       "    </tr>\n",
       "  </tbody>\n",
       "</table>\n",
       "<p>39781 rows × 3 columns</p>\n",
       "</div>"
      ],
      "text/plain": [
       "                                           0   1              2\n",
       "0                      reinspection_required                   \n",
       "1      previously_cited_violations_corrected                   \n",
       "2                      reinspection_required                   \n",
       "3      previously_cited_violations_corrected                   \n",
       "4                      reinspection_required                   \n",
       "...                                      ...  ..            ...\n",
       "39776                  reinspection_required  ;_  fines_pending\n",
       "39777                  reinspection_required  ;_  fines_pending\n",
       "39778                  reinspection_required  ;_  fines_pending\n",
       "39779   passed_inspection_with_no_violations                   \n",
       "39780                  reinspection_required  ;_  fines_pending\n",
       "\n",
       "[39781 rows x 3 columns]"
      ]
     },
     "execution_count": 15,
     "metadata": {},
     "output_type": "execute_result"
    }
   ],
   "source": [
    "df_2"
   ]
  },
  {
   "cell_type": "code",
   "execution_count": 16,
   "metadata": {},
   "outputs": [],
   "source": [
    "df_2.rename(columns={0:'result_1', 2:'result_2'}, inplace=True)"
   ]
  },
  {
   "cell_type": "code",
   "execution_count": 17,
   "metadata": {},
   "outputs": [
    {
     "data": {
      "text/html": [
       "<div>\n",
       "<style scoped>\n",
       "    .dataframe tbody tr th:only-of-type {\n",
       "        vertical-align: middle;\n",
       "    }\n",
       "\n",
       "    .dataframe tbody tr th {\n",
       "        vertical-align: top;\n",
       "    }\n",
       "\n",
       "    .dataframe thead th {\n",
       "        text-align: right;\n",
       "    }\n",
       "</style>\n",
       "<table border=\"1\" class=\"dataframe\">\n",
       "  <thead>\n",
       "    <tr style=\"text-align: right;\">\n",
       "      <th></th>\n",
       "      <th>result_1</th>\n",
       "      <th>1</th>\n",
       "      <th>result_2</th>\n",
       "    </tr>\n",
       "  </thead>\n",
       "  <tbody>\n",
       "    <tr>\n",
       "      <td>0</td>\n",
       "      <td>reinspection_required</td>\n",
       "      <td></td>\n",
       "      <td></td>\n",
       "    </tr>\n",
       "    <tr>\n",
       "      <td>1</td>\n",
       "      <td>previously_cited_violations_corrected</td>\n",
       "      <td></td>\n",
       "      <td></td>\n",
       "    </tr>\n",
       "    <tr>\n",
       "      <td>2</td>\n",
       "      <td>reinspection_required</td>\n",
       "      <td></td>\n",
       "      <td></td>\n",
       "    </tr>\n",
       "    <tr>\n",
       "      <td>3</td>\n",
       "      <td>previously_cited_violations_corrected</td>\n",
       "      <td></td>\n",
       "      <td></td>\n",
       "    </tr>\n",
       "    <tr>\n",
       "      <td>4</td>\n",
       "      <td>reinspection_required</td>\n",
       "      <td></td>\n",
       "      <td></td>\n",
       "    </tr>\n",
       "    <tr>\n",
       "      <td>...</td>\n",
       "      <td>...</td>\n",
       "      <td>...</td>\n",
       "      <td>...</td>\n",
       "    </tr>\n",
       "    <tr>\n",
       "      <td>39776</td>\n",
       "      <td>reinspection_required</td>\n",
       "      <td>;_</td>\n",
       "      <td>fines_pending</td>\n",
       "    </tr>\n",
       "    <tr>\n",
       "      <td>39777</td>\n",
       "      <td>reinspection_required</td>\n",
       "      <td>;_</td>\n",
       "      <td>fines_pending</td>\n",
       "    </tr>\n",
       "    <tr>\n",
       "      <td>39778</td>\n",
       "      <td>reinspection_required</td>\n",
       "      <td>;_</td>\n",
       "      <td>fines_pending</td>\n",
       "    </tr>\n",
       "    <tr>\n",
       "      <td>39779</td>\n",
       "      <td>passed_inspection_with_no_violations</td>\n",
       "      <td></td>\n",
       "      <td></td>\n",
       "    </tr>\n",
       "    <tr>\n",
       "      <td>39780</td>\n",
       "      <td>reinspection_required</td>\n",
       "      <td>;_</td>\n",
       "      <td>fines_pending</td>\n",
       "    </tr>\n",
       "  </tbody>\n",
       "</table>\n",
       "<p>39781 rows × 3 columns</p>\n",
       "</div>"
      ],
      "text/plain": [
       "                                    result_1   1       result_2\n",
       "0                      reinspection_required                   \n",
       "1      previously_cited_violations_corrected                   \n",
       "2                      reinspection_required                   \n",
       "3      previously_cited_violations_corrected                   \n",
       "4                      reinspection_required                   \n",
       "...                                      ...  ..            ...\n",
       "39776                  reinspection_required  ;_  fines_pending\n",
       "39777                  reinspection_required  ;_  fines_pending\n",
       "39778                  reinspection_required  ;_  fines_pending\n",
       "39779   passed_inspection_with_no_violations                   \n",
       "39780                  reinspection_required  ;_  fines_pending\n",
       "\n",
       "[39781 rows x 3 columns]"
      ]
     },
     "execution_count": 17,
     "metadata": {},
     "output_type": "execute_result"
    }
   ],
   "source": [
    "df_2"
   ]
  },
  {
   "cell_type": "code",
   "execution_count": 18,
   "metadata": {},
   "outputs": [],
   "source": [
    "df_2 = df_2.drop(df_2.columns[[1]], axis=1) "
   ]
  },
  {
   "cell_type": "code",
   "execution_count": 19,
   "metadata": {},
   "outputs": [],
   "source": [
    "df = pd.concat([df, df_2], axis=1)"
   ]
  },
  {
   "cell_type": "code",
   "execution_count": 20,
   "metadata": {},
   "outputs": [
    {
     "data": {
      "text/plain": [
       "(39781, 45)"
      ]
     },
     "execution_count": 20,
     "metadata": {},
     "output_type": "execute_result"
    }
   ],
   "source": [
    "df.shape"
   ]
  },
  {
   "cell_type": "code",
   "execution_count": 21,
   "metadata": {},
   "outputs": [
    {
     "name": "stdout",
     "output_type": "stream",
     "text": [
      "<class 'pandas.core.frame.DataFrame'>\n",
      "RangeIndex: 39781 entries, 0 to 39780\n",
      "Data columns (total 45 columns):\n",
      "center_id                                       39781 non-null object\n",
      "center_name                                     39781 non-null object\n",
      "legal_name                                      39781 non-null object\n",
      "building                                        39773 non-null object\n",
      "street                                          39781 non-null object\n",
      "borough                                         39781 non-null object\n",
      "zipcode                                         39736 non-null float64\n",
      "phone                                           39713 non-null object\n",
      "permit_number                                   35796 non-null float64\n",
      "permit_expiration                               39781 non-null object\n",
      "status                                          39781 non-null object\n",
      "age_range                                       37966 non-null object\n",
      "maximum_capacity                                39781 non-null int64\n",
      "program_type                                    39781 non-null object\n",
      "facility_type                                   39781 non-null object\n",
      "child_care_type                                 39781 non-null object\n",
      "building_identification_number                  39781 non-null int64\n",
      "url                                             20076 non-null object\n",
      "date_permitted                                  35541 non-null object\n",
      "actual                                          35541 non-null object\n",
      "violation_rate_percent                          39710 non-null float64\n",
      "average_violation_rate_percent                  39697 non-null float64\n",
      "total_educational_workers                       39781 non-null int64\n",
      "average_total_educational_workers               39781 non-null float64\n",
      "public_health_hazard_violation_rate             39710 non-null float64\n",
      "average_public_health_hazard_violation_rate     39697 non-null float64\n",
      "critical_violation_rate                         39710 non-null float64\n",
      "average_critical_violation_rate                 39697 non-null float64\n",
      "inspection_date                                 39735 non-null object\n",
      "regulation_summary                              39735 non-null object\n",
      "violation_category                              24325 non-null object\n",
      "health_code_sub_section                         24325 non-null object\n",
      "violation_status                                24325 non-null object\n",
      "inspection_summary_result                       37656 non-null object\n",
      "inspection_reason                               39781 non-null object\n",
      "result                                          37656 non-null object\n",
      "inspection_month                                39735 non-null float64\n",
      "inspection_day                                  39735 non-null float64\n",
      "inspection_year                                 39735 non-null float64\n",
      "initial_annual_inspection                       39781 non-null int64\n",
      "compliance_inspection_of_open_violations        39781 non-null int64\n",
      "monitoring_inspection_non_routine               39781 non-null int64\n",
      "lead_based_paint_or_lead_in_water_inspection    39781 non-null int64\n",
      "result_1                                        37656 non-null object\n",
      "result_2                                        37656 non-null object\n",
      "dtypes: float64(12), int64(7), object(26)\n",
      "memory usage: 13.7+ MB\n"
     ]
    }
   ],
   "source": [
    "df.info()"
   ]
  },
  {
   "cell_type": "code",
   "execution_count": 22,
   "metadata": {},
   "outputs": [
    {
     "data": {
      "text/plain": [
       "reinspection_required                    21227\n",
       "passed_inspection_with_no_violations      9236\n",
       "reinspection_not_required                 4657\n",
       "NaN                                       2125\n",
       "previously_cited_violations_corrected     1876\n",
       "passed_inspection                          573\n",
       "previously_closed_program_re-opened         87\n",
       "Name: result_1, dtype: int64"
      ]
     },
     "execution_count": 22,
     "metadata": {},
     "output_type": "execute_result"
    }
   ],
   "source": [
    "df.result_1.value_counts(dropna=False)"
   ]
  },
  {
   "cell_type": "code",
   "execution_count": 23,
   "metadata": {},
   "outputs": [],
   "source": [
    "df['result_1'] = df.result_1.astype('str')"
   ]
  },
  {
   "cell_type": "code",
   "execution_count": 24,
   "metadata": {},
   "outputs": [],
   "source": [
    "df['reinspection_required'] = ['reinspection_required' in i for i in df['result_1']]\n",
    "df['passed_inspection_with_no_violations'] = ['passed_inspection_with_no_violations' in i for i in df['result_1']]\n",
    "df['reinspection_not_required'] = ['reinspection_not_required' in i for i in df['result_1']]\n",
    "df['previously_cited_violations_corrected'] = ['previously_cited_violations_corrected' in i for i in df['result_1']]\n",
    "df['passed_inspection'] = ['passed_inspection' in i for i in df['result_1']]\n",
    "df['previously_closed_program_re-opened'] = ['previously_closed_program_re-opened' in i for i in df['result_1']]"
   ]
  },
  {
   "cell_type": "code",
   "execution_count": 25,
   "metadata": {},
   "outputs": [],
   "source": [
    "df['reinspection_required'] = df.reinspection_required.apply(lambda x: 1 if x==True else 0)\n",
    "df['passed_inspection_with_no_violations'] = df.passed_inspection_with_no_violations.apply(lambda x: 1 if x==True else 0)\n",
    "df['reinspection_not_required'] = df.reinspection_not_required.apply(lambda x: 1 if x==True else 0)\n",
    "df['previously_cited_violations_corrected'] = df.previously_cited_violations_corrected.apply(lambda x: 1 if x==True else 0)\n",
    "df['passed_inspection'] = df.passed_inspection.apply(lambda x: 1 if x==True else 0)\n",
    "df['previously_closed_program_re-opened'] = df['previously_closed_program_re-opened'].apply(lambda x: 1 if x==True else 0)"
   ]
  },
  {
   "cell_type": "code",
   "execution_count": 26,
   "metadata": {},
   "outputs": [
    {
     "data": {
      "text/plain": [
       "(39781, 51)"
      ]
     },
     "execution_count": 26,
     "metadata": {},
     "output_type": "execute_result"
    }
   ],
   "source": [
    "df.shape"
   ]
  },
  {
   "cell_type": "code",
   "execution_count": 27,
   "metadata": {},
   "outputs": [
    {
     "data": {
      "text/html": [
       "<div>\n",
       "<style scoped>\n",
       "    .dataframe tbody tr th:only-of-type {\n",
       "        vertical-align: middle;\n",
       "    }\n",
       "\n",
       "    .dataframe tbody tr th {\n",
       "        vertical-align: top;\n",
       "    }\n",
       "\n",
       "    .dataframe thead th {\n",
       "        text-align: right;\n",
       "    }\n",
       "</style>\n",
       "<table border=\"1\" class=\"dataframe\">\n",
       "  <thead>\n",
       "    <tr style=\"text-align: right;\">\n",
       "      <th></th>\n",
       "      <th>center_id</th>\n",
       "      <th>center_name</th>\n",
       "      <th>legal_name</th>\n",
       "      <th>building</th>\n",
       "      <th>street</th>\n",
       "      <th>borough</th>\n",
       "      <th>zipcode</th>\n",
       "      <th>phone</th>\n",
       "      <th>permit_number</th>\n",
       "      <th>permit_expiration</th>\n",
       "      <th>...</th>\n",
       "      <th>monitoring_inspection_non_routine</th>\n",
       "      <th>lead_based_paint_or_lead_in_water_inspection</th>\n",
       "      <th>result_1</th>\n",
       "      <th>result_2</th>\n",
       "      <th>reinspection_required</th>\n",
       "      <th>passed_inspection_with_no_violations</th>\n",
       "      <th>reinspection_not_required</th>\n",
       "      <th>previously_cited_violations_corrected</th>\n",
       "      <th>passed_inspection</th>\n",
       "      <th>previously_closed_program_re-opened</th>\n",
       "    </tr>\n",
       "  </thead>\n",
       "  <tbody>\n",
       "    <tr>\n",
       "      <td>0</td>\n",
       "      <td>dc20398</td>\n",
       "      <td>yeshivat_ohr_haiim</td>\n",
       "      <td>yeshivat_ohr_haiim</td>\n",
       "      <td>86-06</td>\n",
       "      <td>135th_street</td>\n",
       "      <td>queens</td>\n",
       "      <td>11418.0</td>\n",
       "      <td>718-658-7066</td>\n",
       "      <td>NaN</td>\n",
       "      <td>01/23/2115</td>\n",
       "      <td>...</td>\n",
       "      <td>0</td>\n",
       "      <td>0</td>\n",
       "      <td>reinspection_required</td>\n",
       "      <td></td>\n",
       "      <td>1</td>\n",
       "      <td>0</td>\n",
       "      <td>0</td>\n",
       "      <td>0</td>\n",
       "      <td>0</td>\n",
       "      <td>0</td>\n",
       "    </tr>\n",
       "    <tr>\n",
       "      <td>1</td>\n",
       "      <td>dc20398</td>\n",
       "      <td>yeshivat_ohr_haiim</td>\n",
       "      <td>yeshivat_ohr_haiim</td>\n",
       "      <td>86-06</td>\n",
       "      <td>135th_street</td>\n",
       "      <td>queens</td>\n",
       "      <td>11418.0</td>\n",
       "      <td>718-658-7066</td>\n",
       "      <td>NaN</td>\n",
       "      <td>01/23/2115</td>\n",
       "      <td>...</td>\n",
       "      <td>0</td>\n",
       "      <td>0</td>\n",
       "      <td>previously_cited_violations_corrected</td>\n",
       "      <td></td>\n",
       "      <td>0</td>\n",
       "      <td>0</td>\n",
       "      <td>0</td>\n",
       "      <td>1</td>\n",
       "      <td>0</td>\n",
       "      <td>0</td>\n",
       "    </tr>\n",
       "    <tr>\n",
       "      <td>2</td>\n",
       "      <td>dc20398</td>\n",
       "      <td>yeshivat_ohr_haiim</td>\n",
       "      <td>yeshivat_ohr_haiim</td>\n",
       "      <td>86-06</td>\n",
       "      <td>135th_street</td>\n",
       "      <td>queens</td>\n",
       "      <td>11418.0</td>\n",
       "      <td>718-658-7066</td>\n",
       "      <td>NaN</td>\n",
       "      <td>01/23/2115</td>\n",
       "      <td>...</td>\n",
       "      <td>0</td>\n",
       "      <td>0</td>\n",
       "      <td>reinspection_required</td>\n",
       "      <td></td>\n",
       "      <td>1</td>\n",
       "      <td>0</td>\n",
       "      <td>0</td>\n",
       "      <td>0</td>\n",
       "      <td>0</td>\n",
       "      <td>0</td>\n",
       "    </tr>\n",
       "    <tr>\n",
       "      <td>3</td>\n",
       "      <td>dc20398</td>\n",
       "      <td>yeshivat_ohr_haiim</td>\n",
       "      <td>yeshivat_ohr_haiim</td>\n",
       "      <td>86-06</td>\n",
       "      <td>135th_street</td>\n",
       "      <td>queens</td>\n",
       "      <td>11418.0</td>\n",
       "      <td>718-658-7066</td>\n",
       "      <td>NaN</td>\n",
       "      <td>01/23/2115</td>\n",
       "      <td>...</td>\n",
       "      <td>0</td>\n",
       "      <td>0</td>\n",
       "      <td>previously_cited_violations_corrected</td>\n",
       "      <td></td>\n",
       "      <td>0</td>\n",
       "      <td>0</td>\n",
       "      <td>0</td>\n",
       "      <td>1</td>\n",
       "      <td>0</td>\n",
       "      <td>0</td>\n",
       "    </tr>\n",
       "    <tr>\n",
       "      <td>4</td>\n",
       "      <td>dc20398</td>\n",
       "      <td>yeshivat_ohr_haiim</td>\n",
       "      <td>yeshivat_ohr_haiim</td>\n",
       "      <td>86-06</td>\n",
       "      <td>135th_street</td>\n",
       "      <td>queens</td>\n",
       "      <td>11418.0</td>\n",
       "      <td>718-658-7066</td>\n",
       "      <td>NaN</td>\n",
       "      <td>01/23/2115</td>\n",
       "      <td>...</td>\n",
       "      <td>0</td>\n",
       "      <td>0</td>\n",
       "      <td>reinspection_required</td>\n",
       "      <td></td>\n",
       "      <td>1</td>\n",
       "      <td>0</td>\n",
       "      <td>0</td>\n",
       "      <td>0</td>\n",
       "      <td>0</td>\n",
       "      <td>0</td>\n",
       "    </tr>\n",
       "  </tbody>\n",
       "</table>\n",
       "<p>5 rows × 51 columns</p>\n",
       "</div>"
      ],
      "text/plain": [
       "  center_id         center_name          legal_name building        street  \\\n",
       "0   dc20398  yeshivat_ohr_haiim  yeshivat_ohr_haiim    86-06  135th_street   \n",
       "1   dc20398  yeshivat_ohr_haiim  yeshivat_ohr_haiim    86-06  135th_street   \n",
       "2   dc20398  yeshivat_ohr_haiim  yeshivat_ohr_haiim    86-06  135th_street   \n",
       "3   dc20398  yeshivat_ohr_haiim  yeshivat_ohr_haiim    86-06  135th_street   \n",
       "4   dc20398  yeshivat_ohr_haiim  yeshivat_ohr_haiim    86-06  135th_street   \n",
       "\n",
       "  borough  zipcode         phone  permit_number permit_expiration  ...  \\\n",
       "0  queens  11418.0  718-658-7066            NaN        01/23/2115  ...   \n",
       "1  queens  11418.0  718-658-7066            NaN        01/23/2115  ...   \n",
       "2  queens  11418.0  718-658-7066            NaN        01/23/2115  ...   \n",
       "3  queens  11418.0  718-658-7066            NaN        01/23/2115  ...   \n",
       "4  queens  11418.0  718-658-7066            NaN        01/23/2115  ...   \n",
       "\n",
       "  monitoring_inspection_non_routine  \\\n",
       "0                                 0   \n",
       "1                                 0   \n",
       "2                                 0   \n",
       "3                                 0   \n",
       "4                                 0   \n",
       "\n",
       "  lead_based_paint_or_lead_in_water_inspection  \\\n",
       "0                                            0   \n",
       "1                                            0   \n",
       "2                                            0   \n",
       "3                                            0   \n",
       "4                                            0   \n",
       "\n",
       "                                result_1 result_2 reinspection_required  \\\n",
       "0                  reinspection_required                              1   \n",
       "1  previously_cited_violations_corrected                              0   \n",
       "2                  reinspection_required                              1   \n",
       "3  previously_cited_violations_corrected                              0   \n",
       "4                  reinspection_required                              1   \n",
       "\n",
       "  passed_inspection_with_no_violations  reinspection_not_required  \\\n",
       "0                                    0                          0   \n",
       "1                                    0                          0   \n",
       "2                                    0                          0   \n",
       "3                                    0                          0   \n",
       "4                                    0                          0   \n",
       "\n",
       "  previously_cited_violations_corrected passed_inspection  \\\n",
       "0                                     0                 0   \n",
       "1                                     1                 0   \n",
       "2                                     0                 0   \n",
       "3                                     1                 0   \n",
       "4                                     0                 0   \n",
       "\n",
       "  previously_closed_program_re-opened  \n",
       "0                                   0  \n",
       "1                                   0  \n",
       "2                                   0  \n",
       "3                                   0  \n",
       "4                                   0  \n",
       "\n",
       "[5 rows x 51 columns]"
      ]
     },
     "execution_count": 27,
     "metadata": {},
     "output_type": "execute_result"
    }
   ],
   "source": [
    "df.head()"
   ]
  },
  {
   "cell_type": "code",
   "execution_count": 28,
   "metadata": {},
   "outputs": [
    {
     "data": {
      "text/plain": [
       "                                              21399\n",
       "fines_pending                                 13917\n",
       "NaN                                            2125\n",
       "violations_corrected_at_time_of_inspection     2092\n",
       "program_closed                                  248\n",
       "Name: result_2, dtype: int64"
      ]
     },
     "execution_count": 28,
     "metadata": {},
     "output_type": "execute_result"
    }
   ],
   "source": [
    "df.result_2.value_counts(dropna=False)"
   ]
  },
  {
   "cell_type": "code",
   "execution_count": 29,
   "metadata": {},
   "outputs": [],
   "source": [
    "df['result_2'] = df.result_2.astype('str')"
   ]
  },
  {
   "cell_type": "code",
   "execution_count": 30,
   "metadata": {},
   "outputs": [],
   "source": [
    "df['fines_pending'] = ['fines_pending' in i for i in df['result_2']]\n",
    "df['violations_corrected_at_time_of_inspection'] = ['violations_corrected_at_time_of_inspection' in i for i in df['result_2']]\n",
    "df['program_closed'] = ['program_closed' in i for i in df['result_2']]"
   ]
  },
  {
   "cell_type": "code",
   "execution_count": 31,
   "metadata": {},
   "outputs": [
    {
     "data": {
      "text/plain": [
       "(39781, 54)"
      ]
     },
     "execution_count": 31,
     "metadata": {},
     "output_type": "execute_result"
    }
   ],
   "source": [
    "df.shape"
   ]
  },
  {
   "cell_type": "code",
   "execution_count": 32,
   "metadata": {},
   "outputs": [],
   "source": [
    "df['fines_pending'] = df.fines_pending.apply(lambda x: 1 if x==True else 0)\n",
    "df['violations_corrected_at_time_of_inspection'] = df.violations_corrected_at_time_of_inspection.apply(lambda x: 1 if x==True else 0)\n",
    "df['program_closed'] = df.program_closed.apply(lambda x: 1 if x==True else 0)"
   ]
  },
  {
   "cell_type": "code",
   "execution_count": 33,
   "metadata": {},
   "outputs": [
    {
     "data": {
      "text/plain": [
       "(39781, 54)"
      ]
     },
     "execution_count": 33,
     "metadata": {},
     "output_type": "execute_result"
    }
   ],
   "source": [
    "df.shape"
   ]
  },
  {
   "cell_type": "code",
   "execution_count": 34,
   "metadata": {},
   "outputs": [
    {
     "data": {
      "text/html": [
       "<div>\n",
       "<style scoped>\n",
       "    .dataframe tbody tr th:only-of-type {\n",
       "        vertical-align: middle;\n",
       "    }\n",
       "\n",
       "    .dataframe tbody tr th {\n",
       "        vertical-align: top;\n",
       "    }\n",
       "\n",
       "    .dataframe thead th {\n",
       "        text-align: right;\n",
       "    }\n",
       "</style>\n",
       "<table border=\"1\" class=\"dataframe\">\n",
       "  <thead>\n",
       "    <tr style=\"text-align: right;\">\n",
       "      <th></th>\n",
       "      <th>center_id</th>\n",
       "      <th>center_name</th>\n",
       "      <th>legal_name</th>\n",
       "      <th>building</th>\n",
       "      <th>street</th>\n",
       "      <th>borough</th>\n",
       "      <th>zipcode</th>\n",
       "      <th>phone</th>\n",
       "      <th>permit_number</th>\n",
       "      <th>permit_expiration</th>\n",
       "      <th>...</th>\n",
       "      <th>result_2</th>\n",
       "      <th>reinspection_required</th>\n",
       "      <th>passed_inspection_with_no_violations</th>\n",
       "      <th>reinspection_not_required</th>\n",
       "      <th>previously_cited_violations_corrected</th>\n",
       "      <th>passed_inspection</th>\n",
       "      <th>previously_closed_program_re-opened</th>\n",
       "      <th>fines_pending</th>\n",
       "      <th>violations_corrected_at_time_of_inspection</th>\n",
       "      <th>program_closed</th>\n",
       "    </tr>\n",
       "  </thead>\n",
       "  <tbody>\n",
       "    <tr>\n",
       "      <td>0</td>\n",
       "      <td>dc20398</td>\n",
       "      <td>yeshivat_ohr_haiim</td>\n",
       "      <td>yeshivat_ohr_haiim</td>\n",
       "      <td>86-06</td>\n",
       "      <td>135th_street</td>\n",
       "      <td>queens</td>\n",
       "      <td>11418.0</td>\n",
       "      <td>718-658-7066</td>\n",
       "      <td>NaN</td>\n",
       "      <td>01/23/2115</td>\n",
       "      <td>...</td>\n",
       "      <td></td>\n",
       "      <td>1</td>\n",
       "      <td>0</td>\n",
       "      <td>0</td>\n",
       "      <td>0</td>\n",
       "      <td>0</td>\n",
       "      <td>0</td>\n",
       "      <td>0</td>\n",
       "      <td>0</td>\n",
       "      <td>0</td>\n",
       "    </tr>\n",
       "    <tr>\n",
       "      <td>1</td>\n",
       "      <td>dc20398</td>\n",
       "      <td>yeshivat_ohr_haiim</td>\n",
       "      <td>yeshivat_ohr_haiim</td>\n",
       "      <td>86-06</td>\n",
       "      <td>135th_street</td>\n",
       "      <td>queens</td>\n",
       "      <td>11418.0</td>\n",
       "      <td>718-658-7066</td>\n",
       "      <td>NaN</td>\n",
       "      <td>01/23/2115</td>\n",
       "      <td>...</td>\n",
       "      <td></td>\n",
       "      <td>0</td>\n",
       "      <td>0</td>\n",
       "      <td>0</td>\n",
       "      <td>1</td>\n",
       "      <td>0</td>\n",
       "      <td>0</td>\n",
       "      <td>0</td>\n",
       "      <td>0</td>\n",
       "      <td>0</td>\n",
       "    </tr>\n",
       "    <tr>\n",
       "      <td>2</td>\n",
       "      <td>dc20398</td>\n",
       "      <td>yeshivat_ohr_haiim</td>\n",
       "      <td>yeshivat_ohr_haiim</td>\n",
       "      <td>86-06</td>\n",
       "      <td>135th_street</td>\n",
       "      <td>queens</td>\n",
       "      <td>11418.0</td>\n",
       "      <td>718-658-7066</td>\n",
       "      <td>NaN</td>\n",
       "      <td>01/23/2115</td>\n",
       "      <td>...</td>\n",
       "      <td></td>\n",
       "      <td>1</td>\n",
       "      <td>0</td>\n",
       "      <td>0</td>\n",
       "      <td>0</td>\n",
       "      <td>0</td>\n",
       "      <td>0</td>\n",
       "      <td>0</td>\n",
       "      <td>0</td>\n",
       "      <td>0</td>\n",
       "    </tr>\n",
       "    <tr>\n",
       "      <td>3</td>\n",
       "      <td>dc20398</td>\n",
       "      <td>yeshivat_ohr_haiim</td>\n",
       "      <td>yeshivat_ohr_haiim</td>\n",
       "      <td>86-06</td>\n",
       "      <td>135th_street</td>\n",
       "      <td>queens</td>\n",
       "      <td>11418.0</td>\n",
       "      <td>718-658-7066</td>\n",
       "      <td>NaN</td>\n",
       "      <td>01/23/2115</td>\n",
       "      <td>...</td>\n",
       "      <td></td>\n",
       "      <td>0</td>\n",
       "      <td>0</td>\n",
       "      <td>0</td>\n",
       "      <td>1</td>\n",
       "      <td>0</td>\n",
       "      <td>0</td>\n",
       "      <td>0</td>\n",
       "      <td>0</td>\n",
       "      <td>0</td>\n",
       "    </tr>\n",
       "    <tr>\n",
       "      <td>4</td>\n",
       "      <td>dc20398</td>\n",
       "      <td>yeshivat_ohr_haiim</td>\n",
       "      <td>yeshivat_ohr_haiim</td>\n",
       "      <td>86-06</td>\n",
       "      <td>135th_street</td>\n",
       "      <td>queens</td>\n",
       "      <td>11418.0</td>\n",
       "      <td>718-658-7066</td>\n",
       "      <td>NaN</td>\n",
       "      <td>01/23/2115</td>\n",
       "      <td>...</td>\n",
       "      <td></td>\n",
       "      <td>1</td>\n",
       "      <td>0</td>\n",
       "      <td>0</td>\n",
       "      <td>0</td>\n",
       "      <td>0</td>\n",
       "      <td>0</td>\n",
       "      <td>0</td>\n",
       "      <td>0</td>\n",
       "      <td>0</td>\n",
       "    </tr>\n",
       "  </tbody>\n",
       "</table>\n",
       "<p>5 rows × 54 columns</p>\n",
       "</div>"
      ],
      "text/plain": [
       "  center_id         center_name          legal_name building        street  \\\n",
       "0   dc20398  yeshivat_ohr_haiim  yeshivat_ohr_haiim    86-06  135th_street   \n",
       "1   dc20398  yeshivat_ohr_haiim  yeshivat_ohr_haiim    86-06  135th_street   \n",
       "2   dc20398  yeshivat_ohr_haiim  yeshivat_ohr_haiim    86-06  135th_street   \n",
       "3   dc20398  yeshivat_ohr_haiim  yeshivat_ohr_haiim    86-06  135th_street   \n",
       "4   dc20398  yeshivat_ohr_haiim  yeshivat_ohr_haiim    86-06  135th_street   \n",
       "\n",
       "  borough  zipcode         phone  permit_number permit_expiration  ...  \\\n",
       "0  queens  11418.0  718-658-7066            NaN        01/23/2115  ...   \n",
       "1  queens  11418.0  718-658-7066            NaN        01/23/2115  ...   \n",
       "2  queens  11418.0  718-658-7066            NaN        01/23/2115  ...   \n",
       "3  queens  11418.0  718-658-7066            NaN        01/23/2115  ...   \n",
       "4  queens  11418.0  718-658-7066            NaN        01/23/2115  ...   \n",
       "\n",
       "  result_2 reinspection_required  passed_inspection_with_no_violations  \\\n",
       "0                              1                                     0   \n",
       "1                              0                                     0   \n",
       "2                              1                                     0   \n",
       "3                              0                                     0   \n",
       "4                              1                                     0   \n",
       "\n",
       "  reinspection_not_required previously_cited_violations_corrected  \\\n",
       "0                         0                                     0   \n",
       "1                         0                                     1   \n",
       "2                         0                                     0   \n",
       "3                         0                                     1   \n",
       "4                         0                                     0   \n",
       "\n",
       "  passed_inspection  previously_closed_program_re-opened fines_pending  \\\n",
       "0                 0                                    0             0   \n",
       "1                 0                                    0             0   \n",
       "2                 0                                    0             0   \n",
       "3                 0                                    0             0   \n",
       "4                 0                                    0             0   \n",
       "\n",
       "  violations_corrected_at_time_of_inspection program_closed  \n",
       "0                                          0              0  \n",
       "1                                          0              0  \n",
       "2                                          0              0  \n",
       "3                                          0              0  \n",
       "4                                          0              0  \n",
       "\n",
       "[5 rows x 54 columns]"
      ]
     },
     "execution_count": 34,
     "metadata": {},
     "output_type": "execute_result"
    }
   ],
   "source": [
    "df.head()"
   ]
  }
 ],
 "metadata": {
  "kernelspec": {
   "display_name": "Python 3",
   "language": "python",
   "name": "python3"
  },
  "language_info": {
   "codemirror_mode": {
    "name": "ipython",
    "version": 3
   },
   "file_extension": ".py",
   "mimetype": "text/x-python",
   "name": "python",
   "nbconvert_exporter": "python",
   "pygments_lexer": "ipython3",
   "version": "3.7.4"
  }
 },
 "nbformat": 4,
 "nbformat_minor": 4
}
